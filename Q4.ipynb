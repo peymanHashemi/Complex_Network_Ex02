{
 "cells": [
  {
   "cell_type": "code",
   "execution_count": 1,
   "metadata": {},
   "outputs": [],
   "source": [
    "import numpy as np\n",
    "import pandas as pd\n",
    "import networkx as nx\n",
    "import matplotlib.pyplot as plt\n",
    "import scipy.io\n",
    "import seaborn as sns\n",
    "import warnings\n",
    "from sklearn.cluster import KMeans"
   ]
  },
  {
   "cell_type": "code",
   "execution_count": 6,
   "metadata": {},
   "outputs": [
    {
     "data": {
      "text/plain": [
       "<networkx.classes.graph.Graph at 0x1ebee3820a0>"
      ]
     },
     "execution_count": 6,
     "metadata": {},
     "output_type": "execute_result"
    }
   ],
   "source": [
    "graph = nx.Graph()\n",
    "with open('./Data/Wiki-Vote.txt' , \"r\") as file:\n",
    "    f = file.readlines()\n",
    "    data = []\n",
    "    for line in f:\n",
    "        data = line.strip().split()\n",
    "        graph.add_edge(data[0], data[1])"
   ]
  },
  {
   "cell_type": "code",
   "execution_count": 9,
   "metadata": {},
   "outputs": [
    {
     "name": "stdout",
     "output_type": "stream",
     "text": [
      "Number of nodes:  7120\n",
      "Number of edges:  100766\n"
     ]
    }
   ],
   "source": [
    "m = graph.number_of_edges()\n",
    "num_nodes = graph.number_of_nodes()\n",
    "print(\"Number of nodes: \", num_nodes)\n",
    "print(\"Number of edges: \", m)"
   ]
  },
  {
   "cell_type": "code",
   "execution_count": 25,
   "metadata": {},
   "outputs": [],
   "source": [
    "def modularity_mat(graph):\n",
    "    m = graph.number_of_edges()\n",
    "    num_nodes = graph.number_of_nodes()\n",
    "    nodes = graph.nodes()\n",
    "    A = np.zeros((num_nodes, num_nodes))\n",
    "    for i,node1  in enumerate(nodes):\n",
    "        for j,node2 in enumerate(nodes):\n",
    "            b = graph.degree(node1)*graph.degree(node2)/(2*m)\n",
    "            if graph.has_edge(node1, node2):\n",
    "                a = 1\n",
    "            else:\n",
    "                a = 0\n",
    "            A[i,j] = a-b\n",
    "    return A\n",
    "\n",
    "def dominant_eigenvector(A):\n",
    "    eigenvalues, eigenvectors = np.linalg.eig(A)\n",
    "    idx = np.argsort(eigenvalues)\n",
    "    eigenvalues = eigenvalues[idx]\n",
    "    eigenvectors = eigenvectors[:,idx]\n",
    "    return eigenvectors[:,-1]\n"
   ]
  },
  {
   "cell_type": "code",
   "execution_count": 12,
   "metadata": {},
   "outputs": [
    {
     "name": "stdout",
     "output_type": "stream",
     "text": [
      "Modularity matrix:  [[-7.93918584e-05  9.99980152e-01  9.99980152e-01 ... -1.98479646e-05\n",
      "  -3.96959292e-05 -1.98479646e-05]\n",
      " [ 9.99980152e-01 -4.96199115e-06 -4.96199115e-06 ... -4.96199115e-06\n",
      "  -9.92398230e-06 -4.96199115e-06]\n",
      " [ 9.99980152e-01 -4.96199115e-06 -4.96199115e-06 ... -4.96199115e-06\n",
      "  -9.92398230e-06 -4.96199115e-06]\n",
      " ...\n",
      " [-1.98479646e-05 -4.96199115e-06 -4.96199115e-06 ... -4.96199115e-06\n",
      "  -9.92398230e-06 -4.96199115e-06]\n",
      " [-3.96959292e-05 -9.92398230e-06 -9.92398230e-06 ... -9.92398230e-06\n",
      "  -1.98479646e-05 -9.92398230e-06]\n",
      " [-1.98479646e-05 -4.96199115e-06 -4.96199115e-06 ... -4.96199115e-06\n",
      "  -9.92398230e-06 -4.96199115e-06]]\n"
     ]
    }
   ],
   "source": [
    "modularity_matrix = modularity_mat(graph)\n",
    "print(\"Modularity matrix: \", modularity_matrix)"
   ]
  },
  {
   "cell_type": "code",
   "execution_count": 17,
   "metadata": {},
   "outputs": [
    {
     "name": "stdout",
     "output_type": "stream",
     "text": [
      "Dominant eigenvector:  [-8.17989159e-06+0.j -2.11486281e-06+0.j -2.11486281e-06+0.j ...\n",
      "  2.05998311e-04+0.j  3.79763926e-05+0.j  2.27060906e-05+0.j]\n"
     ]
    }
   ],
   "source": [
    "dominant_eigenvector = dominant_eigenvector(modularity_matrix)\n",
    "print(\"Dominant eigenvector: \", dominant_eigenvector)\n",
    "\n"
   ]
  },
  {
   "cell_type": "code",
   "execution_count": 29,
   "metadata": {},
   "outputs": [],
   "source": [
    "def binary_clustering(graph, Y):\n",
    "    partition1= np.where(Y >= 0)[0]\n",
    "    partition2= np.where(Y < 0)[0]\n",
    "    print(\"Number of nodes in cluster 1: \", len(partition1))\n",
    "    print(\"Number of nodes in cluster 2: \", len(partition2))\n",
    "    nodes = list(graph.nodes())\n",
    "    cluster1 = [nodes[i] for i in partition1]\n",
    "    cluster2 = [nodes[i] for i in partition2]\n",
    "    list_of_clusters = [cluster1, cluster2]\n",
    "    return list_of_clusters, cluster1, cluster2\n",
    "    "
   ]
  },
  {
   "cell_type": "code",
   "execution_count": 36,
   "metadata": {},
   "outputs": [],
   "source": [
    "def modularity_fun(clusters,G):\n",
    "    m = G.number_of_edges()\n",
    "    sums = []\n",
    "    for cluster in clusters:\n",
    "        sum = 0\n",
    "        \n",
    "        sub_graph = G.subgraph(cluster)\n",
    "        nodes = list(sub_graph.nodes())\n",
    "        for node1 in nodes:\n",
    "            for node2 in nodes:\n",
    "                t = sub_graph.degree[node1] * sub_graph.degree[node2]/(2*m)\n",
    "                if sub_graph.has_edge(node1,node2):\n",
    "                    a = 1\n",
    "                else:\n",
    "                    a = 0\n",
    "                sum+= a - t\n",
    "            sums.append(sum)\n",
    "    return(np.sum(sums)/(2*m))"
   ]
  },
  {
   "cell_type": "code",
   "execution_count": 37,
   "metadata": {},
   "outputs": [],
   "source": [
    "total_clusters =[]\n",
    "total_modularity=[]\n",
    "def clustering(graph, modularity,list_of_clusters):\n",
    "    \n",
    "    index = list_of_clusters.index(set(graph.nodes()))\n",
    "    last_cluster = list_of_clusters.pop(index)\n",
    "    print('----------------------------------------------------------------------------')\n",
    "    print(\"\\nlength of last cluster: \", len(last_cluster))\n",
    "\n",
    "    M = modularity_mat(graph)\n",
    "    D = dominant_eigenvector(M)\n",
    "    print(\"dominant eigenvector: \", D)\n",
    "    res, sub1, sub2 = binary_clustering(graph, D)\n",
    "\n",
    "    list_of_clusters.append(set(res[0]))\n",
    "    list_of_clusters.append(set(res[1]))\n",
    "\n",
    "    print(\"length of cluster 1: \", len(set(res[0])))\n",
    "    print(\"length of cluster 2: \", len(set(res[1])))\n",
    "\n",
    "    total_clusters.append(list_of_clusters)\n",
    "\n",
    "    modularity_new = modularity_fun(list_of_clusters, graph)\n",
    "    total_modularity.append(modularity_new)\n",
    "    print(\"new modularity: \", modularity_new)\n",
    "\n",
    "    if modularity_new < modularity:\n",
    "        list_of_clusters.pop()\n",
    "        list_of_clusters.pop()\n",
    "        list_of_clusters.append(last_cluster)\n",
    "        return list_of_clusters\n",
    "\n",
    "\n",
    "    clustering(sub1, modularity_new, list_of_clusters)\n",
    "    clustering(sub2, modularity_new, list_of_clusters)\n",
    "    return list_of_clusters"
   ]
  },
  {
   "cell_type": "code",
   "execution_count": 38,
   "metadata": {},
   "outputs": [
    {
     "name": "stdout",
     "output_type": "stream",
     "text": [
      "----------------------------------------------------------------------------\n",
      "\n",
      "length of last cluster:  7120\n",
      "dominant eigenvector:  [-8.17989159e-06+0.j -2.11486281e-06+0.j -2.11486281e-06+0.j ...\n",
      "  2.05998311e-04+0.j  3.79763926e-05+0.j  2.27060906e-05+0.j]\n",
      "Number of nodes in cluster 1:  3347\n",
      "Number of nodes in cluster 2:  3773\n",
      "length of cluster 1:  3347\n",
      "length of cluster 2:  3773\n"
     ]
    },
    {
     "ename": "KeyboardInterrupt",
     "evalue": "",
     "output_type": "error",
     "traceback": [
      "\u001b[1;31m---------------------------------------------------------------------------\u001b[0m",
      "\u001b[1;31mKeyboardInterrupt\u001b[0m                         Traceback (most recent call last)",
      "Cell \u001b[1;32mIn [38], line 4\u001b[0m\n\u001b[0;32m      2\u001b[0m list_of_clusters \u001b[39m=\u001b[39m []\n\u001b[0;32m      3\u001b[0m list_of_clusters\u001b[39m.\u001b[39mappend(\u001b[39mset\u001b[39m(graph\u001b[39m.\u001b[39mnodes()))\n\u001b[1;32m----> 4\u001b[0m clusters \u001b[39m=\u001b[39m clustering(graph, modularity, list_of_clusters)\n",
      "Cell \u001b[1;32mIn [37], line 23\u001b[0m, in \u001b[0;36mclustering\u001b[1;34m(graph, modularity, list_of_clusters)\u001b[0m\n\u001b[0;32m     19\u001b[0m \u001b[39mprint\u001b[39m(\u001b[39m\"\u001b[39m\u001b[39mlength of cluster 2: \u001b[39m\u001b[39m\"\u001b[39m, \u001b[39mlen\u001b[39m(\u001b[39mset\u001b[39m(res[\u001b[39m1\u001b[39m])))\n\u001b[0;32m     21\u001b[0m total_clusters\u001b[39m.\u001b[39mappend(list_of_clusters)\n\u001b[1;32m---> 23\u001b[0m modularity_new \u001b[39m=\u001b[39m modularity_fun(list_of_clusters, graph)\n\u001b[0;32m     24\u001b[0m total_modularity\u001b[39m.\u001b[39mappend(modularity_new)\n\u001b[0;32m     25\u001b[0m \u001b[39mprint\u001b[39m(\u001b[39m\"\u001b[39m\u001b[39mnew modularity: \u001b[39m\u001b[39m\"\u001b[39m, modularity_new)\n",
      "Cell \u001b[1;32mIn [36], line 11\u001b[0m, in \u001b[0;36mmodularity_fun\u001b[1;34m(clusters, G)\u001b[0m\n\u001b[0;32m      9\u001b[0m \u001b[39mfor\u001b[39;00m node1 \u001b[39min\u001b[39;00m nodes:\n\u001b[0;32m     10\u001b[0m     \u001b[39mfor\u001b[39;00m node2 \u001b[39min\u001b[39;00m nodes:\n\u001b[1;32m---> 11\u001b[0m         t \u001b[39m=\u001b[39m sub_graph\u001b[39m.\u001b[39mdegree[node1] \u001b[39m*\u001b[39m sub_graph\u001b[39m.\u001b[39;49mdegree[node2]\u001b[39m/\u001b[39m(\u001b[39m2\u001b[39m\u001b[39m*\u001b[39mm)\n\u001b[0;32m     12\u001b[0m         \u001b[39mif\u001b[39;00m sub_graph\u001b[39m.\u001b[39mhas_edge(node1,node2):\n\u001b[0;32m     13\u001b[0m             a \u001b[39m=\u001b[39m \u001b[39m1\u001b[39m\n",
      "File \u001b[1;32mc:\\Users\\Asus\\AppData\\Local\\Programs\\Python\\Python39\\lib\\site-packages\\networkx\\classes\\reportviews.py:522\u001b[0m, in \u001b[0;36mDegreeView.__getitem__\u001b[1;34m(self, n)\u001b[0m\n\u001b[0;32m    520\u001b[0m nbrs \u001b[39m=\u001b[39m \u001b[39mself\u001b[39m\u001b[39m.\u001b[39m_succ[n]\n\u001b[0;32m    521\u001b[0m \u001b[39mif\u001b[39;00m weight \u001b[39mis\u001b[39;00m \u001b[39mNone\u001b[39;00m:\n\u001b[1;32m--> 522\u001b[0m     \u001b[39mreturn\u001b[39;00m \u001b[39mlen\u001b[39;49m(nbrs) \u001b[39m+\u001b[39m (n \u001b[39min\u001b[39;00m nbrs)\n\u001b[0;32m    523\u001b[0m \u001b[39mreturn\u001b[39;00m \u001b[39msum\u001b[39m(dd\u001b[39m.\u001b[39mget(weight, \u001b[39m1\u001b[39m) \u001b[39mfor\u001b[39;00m dd \u001b[39min\u001b[39;00m nbrs\u001b[39m.\u001b[39mvalues()) \u001b[39m+\u001b[39m (\n\u001b[0;32m    524\u001b[0m     n \u001b[39min\u001b[39;00m nbrs \u001b[39mand\u001b[39;00m nbrs[n]\u001b[39m.\u001b[39mget(weight, \u001b[39m1\u001b[39m)\n\u001b[0;32m    525\u001b[0m )\n",
      "File \u001b[1;32mc:\\Users\\Asus\\AppData\\Local\\Programs\\Python\\Python39\\lib\\site-packages\\networkx\\classes\\coreviews.py:273\u001b[0m, in \u001b[0;36mFilterAtlas.__len__\u001b[1;34m(self)\u001b[0m\n\u001b[0;32m    272\u001b[0m \u001b[39mdef\u001b[39;00m \u001b[39m__len__\u001b[39m(\u001b[39mself\u001b[39m):\n\u001b[1;32m--> 273\u001b[0m     \u001b[39mreturn\u001b[39;00m \u001b[39msum\u001b[39;49m(\u001b[39m1\u001b[39;49m \u001b[39mfor\u001b[39;49;00m n \u001b[39min\u001b[39;49;00m \u001b[39mself\u001b[39;49m)\n",
      "File \u001b[1;32mc:\\Users\\Asus\\AppData\\Local\\Programs\\Python\\Python39\\lib\\site-packages\\networkx\\classes\\coreviews.py:273\u001b[0m, in \u001b[0;36m<genexpr>\u001b[1;34m(.0)\u001b[0m\n\u001b[0;32m    272\u001b[0m \u001b[39mdef\u001b[39;00m \u001b[39m__len__\u001b[39m(\u001b[39mself\u001b[39m):\n\u001b[1;32m--> 273\u001b[0m     \u001b[39mreturn\u001b[39;00m \u001b[39msum\u001b[39m(\u001b[39m1\u001b[39m \u001b[39mfor\u001b[39;00m n \u001b[39min\u001b[39;00m \u001b[39mself\u001b[39m)\n",
      "File \u001b[1;32mc:\\Users\\Asus\\AppData\\Local\\Programs\\Python\\Python39\\lib\\site-packages\\networkx\\classes\\coreviews.py:282\u001b[0m, in \u001b[0;36m<genexpr>\u001b[1;34m(.0)\u001b[0m\n\u001b[0;32m    280\u001b[0m \u001b[39mif\u001b[39;00m node_ok_shorter:\n\u001b[0;32m    281\u001b[0m     \u001b[39mreturn\u001b[39;00m (n \u001b[39mfor\u001b[39;00m n \u001b[39min\u001b[39;00m \u001b[39mself\u001b[39m\u001b[39m.\u001b[39mNODE_OK\u001b[39m.\u001b[39mnodes \u001b[39mif\u001b[39;00m n \u001b[39min\u001b[39;00m \u001b[39mself\u001b[39m\u001b[39m.\u001b[39m_atlas)\n\u001b[1;32m--> 282\u001b[0m \u001b[39mreturn\u001b[39;00m (n \u001b[39mfor\u001b[39;00m n \u001b[39min\u001b[39;00m \u001b[39mself\u001b[39m\u001b[39m.\u001b[39m_atlas \u001b[39mif\u001b[39;00m \u001b[39mself\u001b[39;49m\u001b[39m.\u001b[39;49mNODE_OK(n))\n",
      "\u001b[1;31mKeyboardInterrupt\u001b[0m: "
     ]
    }
   ],
   "source": [
    "modularity =0\n",
    "list_of_clusters = []\n",
    "list_of_clusters.append(set(graph.nodes()))\n",
    "clusters = clustering(graph, modularity, list_of_clusters)"
   ]
  },
  {
   "cell_type": "code",
   "execution_count": null,
   "metadata": {},
   "outputs": [],
   "source": []
  }
 ],
 "metadata": {
  "kernelspec": {
   "display_name": "Python 3.9.7 64-bit",
   "language": "python",
   "name": "python3"
  },
  "language_info": {
   "codemirror_mode": {
    "name": "ipython",
    "version": 3
   },
   "file_extension": ".py",
   "mimetype": "text/x-python",
   "name": "python",
   "nbconvert_exporter": "python",
   "pygments_lexer": "ipython3",
   "version": "3.9.7"
  },
  "orig_nbformat": 4,
  "vscode": {
   "interpreter": {
    "hash": "c25269a4018224bb4e3cb6b79397037e31419b0dedc1b97e47175df2e08dbf7b"
   }
  }
 },
 "nbformat": 4,
 "nbformat_minor": 2
}
