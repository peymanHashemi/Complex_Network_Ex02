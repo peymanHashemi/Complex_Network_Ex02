{
 "cells": [
  {
   "cell_type": "code",
   "execution_count": 1,
   "metadata": {},
   "outputs": [],
   "source": [
    "import numpy as np\n",
    "import pandas as pd\n",
    "import networkx as nx\n",
    "import matplotlib.pyplot as plt\n",
    "import seaborn as sns\n",
    "from sklearn.cluster import KMeans"
   ]
  },
  {
   "cell_type": "code",
   "execution_count": 2,
   "metadata": {},
   "outputs": [
    {
     "data": {
      "text/html": [
       "<div>\n",
       "<style scoped>\n",
       "    .dataframe tbody tr th:only-of-type {\n",
       "        vertical-align: middle;\n",
       "    }\n",
       "\n",
       "    .dataframe tbody tr th {\n",
       "        vertical-align: top;\n",
       "    }\n",
       "\n",
       "    .dataframe thead th {\n",
       "        text-align: right;\n",
       "    }\n",
       "</style>\n",
       "<table border=\"1\" class=\"dataframe\">\n",
       "  <thead>\n",
       "    <tr style=\"text-align: right;\">\n",
       "      <th></th>\n",
       "      <th>0</th>\n",
       "      <th>1</th>\n",
       "      <th>2</th>\n",
       "    </tr>\n",
       "  </thead>\n",
       "  <tbody>\n",
       "    <tr>\n",
       "      <th>0</th>\n",
       "      <td>1</td>\n",
       "      <td>2</td>\n",
       "      <td>100</td>\n",
       "    </tr>\n",
       "    <tr>\n",
       "      <th>1</th>\n",
       "      <td>3</td>\n",
       "      <td>2</td>\n",
       "      <td>78</td>\n",
       "    </tr>\n",
       "    <tr>\n",
       "      <th>2</th>\n",
       "      <td>4</td>\n",
       "      <td>1</td>\n",
       "      <td>73</td>\n",
       "    </tr>\n",
       "    <tr>\n",
       "      <th>3</th>\n",
       "      <td>4</td>\n",
       "      <td>5</td>\n",
       "      <td>67</td>\n",
       "    </tr>\n",
       "    <tr>\n",
       "      <th>4</th>\n",
       "      <td>1</td>\n",
       "      <td>6</td>\n",
       "      <td>67</td>\n",
       "    </tr>\n",
       "    <tr>\n",
       "      <th>...</th>\n",
       "      <td>...</td>\n",
       "      <td>...</td>\n",
       "      <td>...</td>\n",
       "    </tr>\n",
       "    <tr>\n",
       "      <th>9126</th>\n",
       "      <td>558</td>\n",
       "      <td>111</td>\n",
       "      <td>1</td>\n",
       "    </tr>\n",
       "    <tr>\n",
       "      <th>9127</th>\n",
       "      <td>1042</td>\n",
       "      <td>424</td>\n",
       "      <td>1</td>\n",
       "    </tr>\n",
       "    <tr>\n",
       "      <th>9128</th>\n",
       "      <td>130</td>\n",
       "      <td>6</td>\n",
       "      <td>1</td>\n",
       "    </tr>\n",
       "    <tr>\n",
       "      <th>9129</th>\n",
       "      <td>280</td>\n",
       "      <td>414</td>\n",
       "      <td>1</td>\n",
       "    </tr>\n",
       "    <tr>\n",
       "      <th>9130</th>\n",
       "      <td>353</td>\n",
       "      <td>528</td>\n",
       "      <td>1</td>\n",
       "    </tr>\n",
       "  </tbody>\n",
       "</table>\n",
       "<p>9131 rows × 3 columns</p>\n",
       "</div>"
      ],
      "text/plain": [
       "         0    1    2\n",
       "0        1    2  100\n",
       "1        3    2   78\n",
       "2        4    1   73\n",
       "3        4    5   67\n",
       "4        1    6   67\n",
       "...    ...  ...  ...\n",
       "9126   558  111    1\n",
       "9127  1042  424    1\n",
       "9128   130    6    1\n",
       "9129   280  414    1\n",
       "9130   353  528    1\n",
       "\n",
       "[9131 rows x 3 columns]"
      ]
     },
     "execution_count": 2,
     "metadata": {},
     "output_type": "execute_result"
    }
   ],
   "source": [
    "edges = pd.read_csv('./Data/bible.edges', sep=' ', header=None)\n",
    "edges"
   ]
  },
  {
   "cell_type": "code",
   "execution_count": 3,
   "metadata": {},
   "outputs": [
    {
     "name": "stdout",
     "output_type": "stream",
     "text": [
      "Graph with 1773 nodes and 9131 edges\n"
     ]
    },
    {
     "name": "stderr",
     "output_type": "stream",
     "text": [
      "C:\\Users\\Asus\\AppData\\Local\\Temp\\ipykernel_15080\\2160582480.py:2: DeprecationWarning: info is deprecated and will be removed in version 3.0.\n",
      "\n",
      "  print(nx.info(graph))\n"
     ]
    }
   ],
   "source": [
    "graph = nx.from_pandas_edgelist(edges, 0, 1)\n",
    "print(nx.info(graph))"
   ]
  },
  {
   "cell_type": "markdown",
   "metadata": {},
   "source": [
    "# Part A"
   ]
  },
  {
   "cell_type": "code",
   "execution_count": 4,
   "metadata": {},
   "outputs": [
    {
     "data": {
      "text/plain": [
       "matrix([[0., 1., 1., ..., 0., 0., 0.],\n",
       "        [1., 0., 1., ..., 0., 0., 0.],\n",
       "        [1., 1., 0., ..., 0., 0., 0.],\n",
       "        ...,\n",
       "        [0., 0., 0., ..., 0., 0., 0.],\n",
       "        [0., 0., 0., ..., 0., 0., 0.],\n",
       "        [0., 0., 0., ..., 0., 0., 0.]])"
      ]
     },
     "execution_count": 4,
     "metadata": {},
     "output_type": "execute_result"
    }
   ],
   "source": [
    "matrix = nx.to_numpy_matrix(graph)\n",
    "matrix"
   ]
  },
  {
   "cell_type": "code",
   "execution_count": 5,
   "metadata": {},
   "outputs": [
    {
     "name": "stdout",
     "output_type": "stream",
     "text": [
      "matrix of degrees is : \n",
      " [[364.   0.   0. ...   0.   0.   0.]\n",
      " [  0. 254.   0. ...   0.   0.   0.]\n",
      " [  0.   0. 202. ...   0.   0.   0.]\n",
      " ...\n",
      " [  0.   0.   0. ...   2.   0.   0.]\n",
      " [  0.   0.   0. ...   0.   4.   0.]\n",
      " [  0.   0.   0. ...   0.   0.   2.]]\n",
      "\n",
      "laplacian matrix is : \n",
      " [[364.  -1.  -1. ...   0.   0.   0.]\n",
      " [ -1. 254.  -1. ...   0.   0.   0.]\n",
      " [ -1.  -1. 202. ...   0.   0.   0.]\n",
      " ...\n",
      " [  0.   0.   0. ...   2.   0.   0.]\n",
      " [  0.   0.   0. ...   0.   4.   0.]\n",
      " [  0.   0.   0. ...   0.   0.   2.]]\n",
      "laplacian shape is  :  (1773, 1773)\n"
     ]
    }
   ],
   "source": [
    "def degree_Mat(matrix):\n",
    "   degree = np.zeros((matrix.shape[0], matrix.shape[0]))\n",
    "   for i in range(matrix.shape[0]):\n",
    "       degree[i][i] = np.sum(matrix[i])\n",
    "   print('matrix of degrees is : \\n',degree) \n",
    "   return degree\n",
    "\n",
    "\n",
    "def laplacian(matrix):\n",
    "    degree = degree_Mat(matrix)\n",
    "    lap = degree - matrix\n",
    "    print('\\nlaplacian matrix is : \\n',lap)\n",
    "    return degree - matrix\n",
    "\n",
    "laplacian = laplacian(matrix)\n",
    "\n",
    "print(\"laplacian shape is  : \",laplacian.shape)\n",
    "\n"
   ]
  },
  {
   "cell_type": "markdown",
   "metadata": {},
   "source": [
    "# Part B"
   ]
  },
  {
   "cell_type": "code",
   "execution_count": 6,
   "metadata": {},
   "outputs": [
    {
     "data": {
      "text/plain": [
       "(array([365.02751806, 255.06394602, 222.07428469, ...,   3.        ,\n",
       "          3.        ,   3.        ]),\n",
       " matrix([[ 9.98546027e-01,  2.99922860e-03,  2.96473093e-03, ...,\n",
       "          -5.79989067e-17, -5.24863981e-17, -3.35824805e-17],\n",
       "         [-4.93642513e-03,  9.97615066e-01,  1.62543265e-02, ...,\n",
       "          -1.16208354e-17,  1.61031676e-17,  1.39570251e-17],\n",
       "         [-4.04574543e-03, -1.05113376e-02, -3.47483019e-02, ...,\n",
       "          -2.50015753e-19,  3.11354216e-18, -3.64112339e-18],\n",
       "         ...,\n",
       "         [-2.30515516e-08, -7.05962420e-08,  1.55249574e-09, ...,\n",
       "          -4.24591427e-02,  2.30231800e-03, -7.43936244e-03],\n",
       "         [ 1.71219811e-05, -2.18184319e-06,  5.05846856e-05, ...,\n",
       "          -4.06410536e-16, -4.29922954e-16, -7.87057292e-17],\n",
       "         [ 7.61276370e-06,  1.56394236e-05, -6.39479041e-07, ...,\n",
       "           2.53024762e-16,  3.21964380e-16,  2.00610573e-16]]))"
      ]
     },
     "execution_count": 6,
     "metadata": {},
     "output_type": "execute_result"
    }
   ],
   "source": [
    "#sorted eigenvalues and eigenvectors\n",
    "eigenvalues, eigenvectors = np.linalg.eig(laplacian)\n",
    "eigenvalues,eigenvectors\n"
   ]
  },
  {
   "cell_type": "code",
   "execution_count": 7,
   "metadata": {},
   "outputs": [
    {
     "name": "stdout",
     "output_type": "stream",
     "text": [
      "sorted eigenvalues are : \n",
      " [-4.46139904e-14 -8.90326803e-15 -6.47322745e-15 ...  2.22074285e+02\n",
      "  2.55063946e+02  3.65027518e+02]\n",
      "\n",
      "sorted eigenvectors are : \n",
      " [[ 2.42037824e-02  2.73271444e-21 -6.72048445e-18 ...  2.96473093e-03\n",
      "   2.99922860e-03  9.98546027e-01]\n",
      " [ 2.42037824e-02  1.79210931e-17 -5.75859294e-18 ...  1.62543265e-02\n",
      "   9.97615066e-01 -4.93642513e-03]\n",
      " [ 2.42037824e-02 -1.62052269e-17 -1.02230029e-17 ... -3.47483019e-02\n",
      "  -1.05113376e-02 -4.04574543e-03]\n",
      " ...\n",
      " [ 2.42037824e-02  4.51310128e-17 -1.77730863e-17 ...  1.55249574e-09\n",
      "  -7.05962420e-08 -2.30515516e-08]\n",
      " [ 2.42037824e-02  2.09743367e-16  1.10346001e-16 ...  5.05846856e-05\n",
      "  -2.18184319e-06  1.71219811e-05]\n",
      " [ 2.42037824e-02 -6.62863372e-16  1.92721272e-17 ... -6.39479041e-07\n",
      "   1.56394236e-05  7.61276370e-06]]\n"
     ]
    }
   ],
   "source": [
    "#sorting eigenvalues and eigenvectors\n",
    "idx = np.argsort(eigenvalues)\n",
    "eigenvalues_sorted = eigenvalues[idx]\n",
    "eigenvectors_sorted = eigenvectors[:,idx]\n",
    "\n",
    "print('sorted eigenvalues are : \\n',eigenvalues_sorted)\n",
    "print('\\nsorted eigenvectors are : \\n',eigenvectors_sorted)"
   ]
  },
  {
   "cell_type": "code",
   "execution_count": 23,
   "metadata": {},
   "outputs": [
    {
     "name": "stdout",
     "output_type": "stream",
     "text": [
      "second smallest eigenvalue is :  -8.903268033317957e-15\n",
      "second smallest eigenvector is : \n",
      " [[ 2.73271444e-21]\n",
      " [ 1.79210931e-17]\n",
      " [-1.62052269e-17]\n",
      " ...\n",
      " [ 4.51310128e-17]\n",
      " [ 2.09743367e-16]\n",
      " [-6.62863372e-16]]\n"
     ]
    }
   ],
   "source": [
    "print('second smallest eigenvalue is : ',eigenvalues_sorted[1])\n",
    "print('second smallest eigenvector is : \\n',eigenvectors_sorted[:,1])\n",
    "\n",
    "vector2 = np.squeeze(np.asarray(eigenvectors_sorted[:,1]))\n",
    "vector2_real = [np.real(a) for a in vector2]"
   ]
  },
  {
   "cell_type": "markdown",
   "metadata": {},
   "source": [
    "# Part C"
   ]
  },
  {
   "cell_type": "code",
   "execution_count": 9,
   "metadata": {},
   "outputs": [
    {
     "data": {
      "text/plain": [
       "<matplotlib.collections.PathCollection at 0x20bc134d910>"
      ]
     },
     "execution_count": 9,
     "metadata": {},
     "output_type": "execute_result"
    },
    {
     "data": {
      "image/png": "[encoded data removed]",
      "text/plain": [
       "<Figure size 640x480 with 1 Axes>"
      ]
     },
     "metadata": {},
     "output_type": "display_data"
    }
   ],
   "source": [
    "import matplotlib.pyplot as plt\n",
    "plt.scatter(range(graph.number_of_nodes()),vector2_real,c='b')"
   ]
  },
  {
   "cell_type": "code",
   "execution_count": 10,
   "metadata": {},
   "outputs": [],
   "source": [
    "# #normalized eigenvalues and eigenvectors   \n",
    "# eigenvalues_norm = eigenvalues/np.sum(eigenvalues)\n",
    "# eigenvectors_norm = eigenvectors/np.sum(eigenvectors)\n",
    "# print('\\nNormalized Eigenvalues are : \\n',eigenvalues_norm)\n",
    "# print('\\nNormalized Eigenvectors are : \\n',eigenvectors_norm)\n"
   ]
  },
  {
   "cell_type": "code",
   "execution_count": 11,
   "metadata": {},
   "outputs": [
    {
     "data": {
      "image/png": "[encoded data removed]",
      "text/plain": [
       "<Figure size 640x480 with 1 Axes>"
      ]
     },
     "metadata": {},
     "output_type": "display_data"
    }
   ],
   "source": [
    "#kmeans clustering on eigenvalues, distotion, plotting\n",
    "distortions = []\n",
    "K = range(1,10)\n",
    "for k in K:\n",
    "    kmeanModel = KMeans(n_clusters=k)\n",
    "    kmeanModel.fit(np.array((vector2_real)).reshape(-1,1))\n",
    "    distortions.append(kmeanModel.inertia_)\n",
    "plt.plot(K, distortions, 'bx-')\n",
    "plt.xlabel('k')\n",
    "plt.ylabel('Distortion')\n",
    "plt.title('The Elbow Method showing the optimal k')\n",
    "plt.show()\n"
   ]
  },
  {
   "cell_type": "code",
   "execution_count": 18,
   "metadata": {},
   "outputs": [
    {
     "data": {
      "image/png": "[encoded data removed]",
      "text/plain": [
       "<Figure size 640x480 with 1 Axes>"
      ]
     },
     "metadata": {},
     "output_type": "display_data"
    },
    {
     "name": "stdout",
     "output_type": "stream",
     "text": [
      " k is 4 :\n",
      "cluster centers are :  [[-6.81182728e-06]\n",
      " [-4.98438366e-01]\n",
      " [ 1.60824561e-02]\n",
      " [-1.39456314e-02]]\n",
      "cluster labels are :  [0 0 0 ... 0 0 0]\n",
      "cluster labels lengh is :  (1773,)\n"
     ]
    },
    {
     "data": {
      "image/png": "[encoded data removed]",
      "text/plain": [
       "<Figure size 640x480 with 1 Axes>"
      ]
     },
     "metadata": {},
     "output_type": "display_data"
    },
    {
     "name": "stdout",
     "output_type": "stream",
     "text": [
      " k is 3 :\n",
      "cluster centers are :  [[-6.24399554e-05]\n",
      " [-4.98438366e-01]\n",
      " [ 1.60824561e-02]]\n",
      "cluster labels are :  [0 0 0 ... 0 0 0]\n",
      "cluster labels lengh is :  (1773,)\n"
     ]
    },
    {
     "data": {
      "image/png": "[encoded data removed]",
      "text/plain": [
       "<Figure size 640x480 with 1 Axes>"
      ]
     },
     "metadata": {},
     "output_type": "display_data"
    },
    {
     "name": "stdout",
     "output_type": "stream",
     "text": [
      " k is 2 :\n",
      "cluster centers are :  [[ 7.44585412e-05]\n",
      " [-4.98438366e-01]]\n",
      "cluster labels are :  [0 0 0 ... 0 0 0]\n",
      "cluster labels lengh is :  (1773,)\n"
     ]
    }
   ],
   "source": [
    "#kmeans clustering k=3 and plotting\n",
    "kmeans_4 = KMeans(n_clusters=4, random_state=0).fit(np.array(vector2_real).reshape(-1,1))\n",
    "labels_4 = kmeans_4.labels_\n",
    "plt.scatter(range(graph.number_of_nodes()),vector2_real,c=labels_4, cmap='viridis')\n",
    "plt.show()\n",
    "\n",
    "print(' k is 4 :')\n",
    "print('cluster centers are : ',kmeans_4.cluster_centers_)\n",
    "print('cluster labels are : ',labels_4)\n",
    "print('cluster labels lengh is : ',labels_4.shape)\n",
    "\n",
    "kmeans_3 = KMeans(n_clusters=3, random_state=0).fit(np.array(vector2_real).reshape(-1,1))\n",
    "labels_3 = kmeans_3.labels_\n",
    "plt.scatter(range(graph.number_of_nodes()),vector2_real,c=labels_3, cmap='viridis')\n",
    "plt.show()\n",
    "\n",
    "print(' k is 3 :')\n",
    "print('cluster centers are : ',kmeans_3.cluster_centers_)\n",
    "print('cluster labels are : ',labels_3)\n",
    "print('cluster labels lengh is : ',labels_3.shape)\n",
    "\n",
    "kmeans_2 = KMeans(n_clusters=2, random_state=0).fit(np.array(vector2_real).reshape(-1,1))\n",
    "labels_2 = kmeans_2.labels_\n",
    "plt.scatter(range(graph.number_of_nodes()),vector2_real,c=labels_2, cmap='viridis')\n",
    "plt.show()\n",
    "\n",
    "print(' k is 2 :')\n",
    "print('cluster centers are : ',kmeans_2.cluster_centers_)\n",
    "print('cluster labels are : ',labels_2)\n",
    "print('cluster labels lengh is : ',labels_2.shape)\n",
    "\n"
   ]
  },
  {
   "cell_type": "markdown",
   "metadata": {},
   "source": [
    "# Part D"
   ]
  },
  {
   "cell_type": "code",
   "execution_count": 21,
   "metadata": {},
   "outputs": [],
   "source": [
    "cluster1_4 = (np.where(kmeans_4.labels_==1)[0])\n",
    "cluster2_4 = (np.where(kmeans_4.labels_==2)[0])\n",
    "cluster3_4 = (np.where(kmeans_4.labels_==3)[0])\n",
    "cluster4_4 = (np.where(kmeans_4.labels_==0)[0])\n",
    "list_of_clusters_4 = [cluster1_4,cluster2_4,cluster3_4,cluster4_4]\n",
    "\n",
    "cluster1_3 = (np.where(kmeans_3.labels_==1)[0])\n",
    "cluster2_3 = (np.where(kmeans_3.labels_==2)[0]) \n",
    "cluster3_3 = (np.where(kmeans_3.labels_==0)[0])\n",
    "list_of_clusters_3 = [cluster1_3,cluster2_3,cluster3_3]\n",
    "\n",
    "cluster1_2 = (np.where(kmeans_2.labels_==1)[0])\n",
    "cluster2_2 = (np.where(kmeans_2.labels_==0)[0])\n",
    "list_of_clusters_2 = [cluster1_2,cluster2_2]\n",
    "\n"
   ]
  },
  {
   "cell_type": "code",
   "execution_count": 19,
   "metadata": {},
   "outputs": [
    {
     "name": "stdout",
     "output_type": "stream",
     "text": [
      "mincut for kmeans with k=4 is :  0.0\n",
      "mincut for kmeans with k=3 is :  0.0\n",
      "mincut for kmeans with k=2 is :  0.0\n"
     ]
    }
   ],
   "source": [
    "#mincut algorithm with clustering\n",
    "def mincut(matrix, labels):\n",
    "    mincut = 0\n",
    "    for i in range(len(labels)-1):\n",
    "        for j in range(i+1, len(labels)-1):\n",
    "            if labels[i] != labels[j]:\n",
    "                mincut +=  matrix[i , j]\n",
    "    return mincut\n",
    "\n",
    "mincut_4 = mincut(matrix, labels_4)\n",
    "print('mincut for kmeans with k=4 is : ',mincut_4)\n",
    "\n",
    "mincut_3 = mincut(matrix, labels_3)\n",
    "print('mincut for kmeans with k=3 is : ',mincut_3)\n",
    "\n",
    "mincut_2 = mincut(matrix, labels_2)\n",
    "print('mincut for kmeans with k=2 is : ',mincut_2)\n"
   ]
  },
  {
   "cell_type": "code",
   "execution_count": 22,
   "metadata": {},
   "outputs": [
    {
     "name": "stdout",
     "output_type": "stream",
     "text": [
      "modularity for k=4 is :  0.006556125270962652\n",
      "modularity for k=3 is :  0.0045912954819048325\n",
      "modularity for k=2 is :  0.001313340792245858\n"
     ]
    }
   ],
   "source": [
    "m = graph.number_of_edges()\n",
    "\n",
    "nodes = list(graph.nodes())\n",
    "\n",
    "def modularity(clusters,m,G,nodes):\n",
    "  sums = []\n",
    "  for cluster in clusters:\n",
    "    sum = 0\n",
    "    for i in cluster:\n",
    "      for j in cluster:\n",
    "        t = G.degree[nodes[i]]*G.degree[nodes[j]]/(2*m)\n",
    "        if G.has_edge(nodes[i],nodes[j]):\n",
    "          a = 1\n",
    "        else:\n",
    "          a = 0\n",
    "        sum+= a - t\n",
    "    sums.append(sum)\n",
    "  return(np.sum(sums)/(2*m))\n",
    "\n",
    "print ('modularity for k=4 is : ',modularity(list_of_clusters_4,m,graph,nodes))\n",
    "print ('modularity for k=3 is : ',modularity(list_of_clusters_3,m,graph,nodes))\n",
    "print ('modularity for k=2 is : ',modularity(list_of_clusters_2,m,graph,nodes))"
   ]
  },
  {
   "cell_type": "code",
   "execution_count": null,
   "metadata": {},
   "outputs": [],
   "source": []
  }
 ],
 "metadata": {
  "kernelspec": {
   "display_name": "Python 3.9.7 64-bit",
   "language": "python",
   "name": "python3"
  },
  "language_info": {
   "codemirror_mode": {
    "name": "ipython",
    "version": 3
   },
   "file_extension": ".py",
   "mimetype": "text/x-python",
   "name": "python",
   "nbconvert_exporter": "python",
   "pygments_lexer": "ipython3",
   "version": "3.9.7"
  },
  "orig_nbformat": 4,
  "vscode": {
   "interpreter": {
    "hash": "c25269a4018224bb4e3cb6b79397037e31419b0dedc1b97e47175df2e08dbf7b"
   }
  }
 },
 "nbformat": 4,
 "nbformat_minor": 2
}
