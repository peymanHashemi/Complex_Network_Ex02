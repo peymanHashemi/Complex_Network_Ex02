{
  "cells": [
    {
      "cell_type": "code",
      "execution_count": 17,
      "metadata": {
        "id": "0VFtCds4OMmv"
      },
      "outputs": [],
      "source": [
        "import numpy as np\n",
        "import pandas as pd\n",
        "import networkx as nx\n",
        "import matplotlib.pyplot as plt\n",
        "import scipy.io\n",
        "import seaborn as sns\n",
        "import warnings\n",
        "from sklearn.cluster import KMeans"
      ]
    },
    {
      "cell_type": "code",
      "source": [
        "from google.colab import files\n",
        "uploaded = files.upload()"
      ],
      "metadata": {
        "colab": {
          "base_uri": "https://localhost:8080/",
          "height": 73
        },
        "id": "VRPinma-Obas",
        "outputId": "7d1ce6e1-eb31-498e-d137-107fac505888"
      },
      "execution_count": 3,
      "outputs": [
        {
          "output_type": "display_data",
          "data": {
            "text/plain": [
              "<IPython.core.display.HTML object>"
            ],
            "text/html": [
              "\n",
              "     <input type=\"file\" id=\"files-8219dcf2-161e-4246-8a22-121dcfab95a0\" name=\"files[]\" multiple disabled\n",
              "        style=\"border:none\" />\n",
              "     <output id=\"result-8219dcf2-161e-4246-8a22-121dcfab95a0\">\n",
              "      Upload widget is only available when the cell has been executed in the\n",
              "      current browser session. Please rerun this cell to enable.\n",
              "      </output>\n",
              "      <script>// Copyright 2017 Google LLC\n",
              "//\n",
              "// Licensed under the Apache License, Version 2.0 (the \"License\");\n",
              "// you may not use this file except in compliance with the License.\n",
              "// You may obtain a copy of the License at\n",
              "//\n",
              "//      http://www.apache.org/licenses/LICENSE-2.0\n",
              "//\n",
              "// Unless required by applicable law or agreed to in writing, software\n",
              "// distributed under the License is distributed on an \"AS IS\" BASIS,\n",
              "// WITHOUT WARRANTIES OR CONDITIONS OF ANY KIND, either express or implied.\n",
              "// See the License for the specific language governing permissions and\n",
              "// limitations under the License.\n",
              "\n",
              "/**\n",
              " * @fileoverview Helpers for google.colab Python module.\n",
              " */\n",
              "(function(scope) {\n",
              "function span(text, styleAttributes = {}) {\n",
              "  const element = document.createElement('span');\n",
              "  element.textContent = text;\n",
              "  for (const key of Object.keys(styleAttributes)) {\n",
              "    element.style[key] = styleAttributes[key];\n",
              "  }\n",
              "  return element;\n",
              "}\n",
              "\n",
              "// Max number of bytes which will be uploaded at a time.\n",
              "const MAX_PAYLOAD_SIZE = 100 * 1024;\n",
              "\n",
              "function _uploadFiles(inputId, outputId) {\n",
              "  const steps = uploadFilesStep(inputId, outputId);\n",
              "  const outputElement = document.getElementById(outputId);\n",
              "  // Cache steps on the outputElement to make it available for the next call\n",
              "  // to uploadFilesContinue from Python.\n",
              "  outputElement.steps = steps;\n",
              "\n",
              "  return _uploadFilesContinue(outputId);\n",
              "}\n",
              "\n",
              "// This is roughly an async generator (not supported in the browser yet),\n",
              "// where there are multiple asynchronous steps and the Python side is going\n",
              "// to poll for completion of each step.\n",
              "// This uses a Promise to block the python side on completion of each step,\n",
              "// then passes the result of the previous step as the input to the next step.\n",
              "function _uploadFilesContinue(outputId) {\n",
              "  const outputElement = document.getElementById(outputId);\n",
              "  const steps = outputElement.steps;\n",
              "\n",
              "  const next = steps.next(outputElement.lastPromiseValue);\n",
              "  return Promise.resolve(next.value.promise).then((value) => {\n",
              "    // Cache the last promise value to make it available to the next\n",
              "    // step of the generator.\n",
              "    outputElement.lastPromiseValue = value;\n",
              "    return next.value.response;\n",
              "  });\n",
              "}\n",
              "\n",
              "/**\n",
              " * Generator function which is called between each async step of the upload\n",
              " * process.\n",
              " * @param {string} inputId Element ID of the input file picker element.\n",
              " * @param {string} outputId Element ID of the output display.\n",
              " * @return {!Iterable<!Object>} Iterable of next steps.\n",
              " */\n",
              "function* uploadFilesStep(inputId, outputId) {\n",
              "  const inputElement = document.getElementById(inputId);\n",
              "  inputElement.disabled = false;\n",
              "\n",
              "  const outputElement = document.getElementById(outputId);\n",
              "  outputElement.innerHTML = '';\n",
              "\n",
              "  const pickedPromise = new Promise((resolve) => {\n",
              "    inputElement.addEventListener('change', (e) => {\n",
              "      resolve(e.target.files);\n",
              "    });\n",
              "  });\n",
              "\n",
              "  const cancel = document.createElement('button');\n",
              "  inputElement.parentElement.appendChild(cancel);\n",
              "  cancel.textContent = 'Cancel upload';\n",
              "  const cancelPromise = new Promise((resolve) => {\n",
              "    cancel.onclick = () => {\n",
              "      resolve(null);\n",
              "    };\n",
              "  });\n",
              "\n",
              "  // Wait for the user to pick the files.\n",
              "  const files = yield {\n",
              "    promise: Promise.race([pickedPromise, cancelPromise]),\n",
              "    response: {\n",
              "      action: 'starting',\n",
              "    }\n",
              "  };\n",
              "\n",
              "  cancel.remove();\n",
              "\n",
              "  // Disable the input element since further picks are not allowed.\n",
              "  inputElement.disabled = true;\n",
              "\n",
              "  if (!files) {\n",
              "    return {\n",
              "      response: {\n",
              "        action: 'complete',\n",
              "      }\n",
              "    };\n",
              "  }\n",
              "\n",
              "  for (const file of files) {\n",
              "    const li = document.createElement('li');\n",
              "    li.append(span(file.name, {fontWeight: 'bold'}));\n",
              "    li.append(span(\n",
              "        `(${file.type || 'n/a'}) - ${file.size} bytes, ` +\n",
              "        `last modified: ${\n",
              "            file.lastModifiedDate ? file.lastModifiedDate.toLocaleDateString() :\n",
              "                                    'n/a'} - `));\n",
              "    const percent = span('0% done');\n",
              "    li.appendChild(percent);\n",
              "\n",
              "    outputElement.appendChild(li);\n",
              "\n",
              "    const fileDataPromise = new Promise((resolve) => {\n",
              "      const reader = new FileReader();\n",
              "      reader.onload = (e) => {\n",
              "        resolve(e.target.result);\n",
              "      };\n",
              "      reader.readAsArrayBuffer(file);\n",
              "    });\n",
              "    // Wait for the data to be ready.\n",
              "    let fileData = yield {\n",
              "      promise: fileDataPromise,\n",
              "      response: {\n",
              "        action: 'continue',\n",
              "      }\n",
              "    };\n",
              "\n",
              "    // Use a chunked sending to avoid message size limits. See b/62115660.\n",
              "    let position = 0;\n",
              "    do {\n",
              "      const length = Math.min(fileData.byteLength - position, MAX_PAYLOAD_SIZE);\n",
              "      const chunk = new Uint8Array(fileData, position, length);\n",
              "      position += length;\n",
              "\n",
              "      const base64 = btoa(String.fromCharCode.apply(null, chunk));\n",
              "      yield {\n",
              "        response: {\n",
              "          action: 'append',\n",
              "          file: file.name,\n",
              "          data: base64,\n",
              "        },\n",
              "      };\n",
              "\n",
              "      let percentDone = fileData.byteLength === 0 ?\n",
              "          100 :\n",
              "          Math.round((position / fileData.byteLength) * 100);\n",
              "      percent.textContent = `${percentDone}% done`;\n",
              "\n",
              "    } while (position < fileData.byteLength);\n",
              "  }\n",
              "\n",
              "  // All done.\n",
              "  yield {\n",
              "    response: {\n",
              "      action: 'complete',\n",
              "    }\n",
              "  };\n",
              "}\n",
              "\n",
              "scope.google = scope.google || {};\n",
              "scope.google.colab = scope.google.colab || {};\n",
              "scope.google.colab._files = {\n",
              "  _uploadFiles,\n",
              "  _uploadFilesContinue,\n",
              "};\n",
              "})(self);\n",
              "</script> "
            ]
          },
          "metadata": {}
        },
        {
          "output_type": "stream",
          "name": "stdout",
          "text": [
            "Saving Wiki-Vote.txt to Wiki-Vote.txt\n"
          ]
        }
      ]
    },
    {
      "cell_type": "code",
      "execution_count": 26,
      "metadata": {
        "id": "DyUOscjkOMm0"
      },
      "outputs": [],
      "source": [
        "graph = nx.Graph()\n",
        "with open('Wiki-Vote.txt' , \"r\") as file:\n",
        "    f = file.readlines()\n",
        "    data = []\n",
        "    for line in f:\n",
        "        data = line.strip().split()\n",
        "        graph.add_edges_from([(data[0], data[1])])"
      ]
    },
    {
      "cell_type": "code",
      "execution_count": 27,
      "metadata": {
        "colab": {
          "base_uri": "https://localhost:8080/"
        },
        "id": "yb4dpZyFOMm1",
        "outputId": "e695c71f-2450-475f-ddb4-733b34a83279"
      },
      "outputs": [
        {
          "output_type": "stream",
          "name": "stdout",
          "text": [
            "Number of nodes:  7115\n",
            "Number of edges:  100762\n"
          ]
        }
      ],
      "source": [
        "m = graph.number_of_edges()\n",
        "num_nodes = graph.number_of_nodes()\n",
        "print(\"Number of nodes: \", num_nodes)\n",
        "print(\"Number of edges: \", m)"
      ]
    },
    {
      "cell_type": "code",
      "execution_count": 28,
      "metadata": {
        "id": "Bbr3E3tMOMm2"
      },
      "outputs": [],
      "source": [
        "def modularity_mat(graph):\n",
        "    m = graph.number_of_edges()\n",
        "    num_nodes = graph.number_of_nodes()\n",
        "    nodes = graph.nodes()\n",
        "    A = np.zeros((num_nodes, num_nodes))\n",
        "    for i,node1  in enumerate(nodes):\n",
        "        for j,node2 in enumerate(nodes):\n",
        "            b = graph.degree[node1]*graph.degree[node2]/(2*m)\n",
        "            if graph.has_edge(node1, node2):\n",
        "                a = 1\n",
        "            else:\n",
        "                a = 0\n",
        "            A[i,j] = a-b\n",
        "    return A\n",
        "\n",
        "def dominant_eigenvector(A):\n",
        "    eigenvalues, eigenvectors = np.linalg.eig(A)\n",
        "    idx = np.argsort(eigenvalues)\n",
        "    eigenvalues = eigenvalues[idx]\n",
        "    eigenvectors = eigenvectors[:,idx]\n",
        "    return eigenvectors[:,-1]\n"
      ]
    },
    {
      "cell_type": "code",
      "execution_count": null,
      "metadata": {
        "id": "yFtW1swzOMm3"
      },
      "outputs": [],
      "source": [
        "modularity_matrix = modularity_mat(graph)\n",
        "print(\"Modularity matrix: \", modularity_matrix)"
      ]
    },
    {
      "cell_type": "code",
      "execution_count": null,
      "metadata": {
        "id": "Wc1c-GwhOMm3"
      },
      "outputs": [],
      "source": [
        "dominant_eigenvector = dominant_eigenvector(modularity_matrix)\n",
        "print(\"Dominant eigenvector: \", dominant_eigenvector)\n",
        "\n"
      ]
    },
    {
      "cell_type": "code",
      "execution_count": 22,
      "metadata": {
        "id": "SOxz7FbyOMm4"
      },
      "outputs": [],
      "source": [
        "def binary_clustering(graph, Y):\n",
        "    partition1= (np.where(Y > 0)[0])\n",
        "    partition2= (np.where(Y < 0)[0])\n",
        "    print(\"Number of nodes in cluster 1: \", len(partition1))\n",
        "    print(\"Number of nodes in cluster 2: \", len(partition2))\n",
        "    nodes = list(graph.nodes())\n",
        "    cluster1 = [nodes[i] for i in partition1]\n",
        "    cluster2 = [nodes[i] for i in partition2]\n",
        "    list_of_clusters = [cluster1, cluster2]\n",
        "    sub1 = graph.subgraph(cluster1)\n",
        "    sub2 = graph.subgraph(cluster2)\n",
        "    return list_of_clusters, sub1, sub2\n",
        "    "
      ]
    },
    {
      "cell_type": "code",
      "execution_count": 23,
      "metadata": {
        "id": "sddKV0_IOMm4"
      },
      "outputs": [],
      "source": [
        "def modularity_fun(clusters,G):\n",
        "    m = G.number_of_edges()\n",
        "    sums = []\n",
        "    for cluster in clusters:\n",
        "        sum = 0\n",
        "        \n",
        "        sub_graph = G.subgraph(cluster)\n",
        "        nodes = (sub_graph.nodes())\n",
        "        for node1 in nodes:\n",
        "            for node2 in nodes:\n",
        "                t = sub_graph.degree[node1] * sub_graph.degree[node2]/(2*m)\n",
        "                if sub_graph.has_edge(node1,node2):\n",
        "                    a = 1\n",
        "                else:\n",
        "                    a = 0\n",
        "                sum+= a - t\n",
        "            sums.append(sum)\n",
        "    return(np.sum(sums)/(2*m))"
      ]
    },
    {
      "cell_type": "code",
      "execution_count": 24,
      "metadata": {
        "id": "2dNS8Yu_OMm5"
      },
      "outputs": [],
      "source": [
        "total_clusters =[]\n",
        "total_modularity=[]\n",
        "def clustering(graph, modularity,list_of_clusters):\n",
        "    \n",
        "    index = list_of_clusters.index(set(graph.nodes()))\n",
        "    last_cluster = list_of_clusters.pop(index)\n",
        "    print('----------------------------------------------------------------------------')\n",
        "    print(\"\\nlength of last cluster: \", len(last_cluster))\n",
        "\n",
        "    M = modularity_mat(graph)\n",
        "    D = dominant_eigenvector(M)\n",
        "    print(\"dominant eigenvector: \", D)\n",
        "    res, sub1, sub2 = binary_clustering(graph, D)\n",
        "\n",
        "    list_of_clusters.append(set(res[0]))\n",
        "    list_of_clusters.append(set(res[1]))\n",
        "\n",
        "    print(\"length of cluster 1: \", len(set(res[0])))\n",
        "    print(\"length of cluster 2: \", len(set(res[1])))\n",
        "\n",
        "    total_clusters.append(list_of_clusters)\n",
        "\n",
        "    modularity_new = modularity_fun(list_of_clusters, graph)\n",
        "    total_modularity.append(modularity_new)\n",
        "    print(\"new modularity: \", modularity_new)\n",
        "\n",
        "    if modularity_new < modularity:\n",
        "        list_of_clusters.pop()\n",
        "        list_of_clusters.pop()\n",
        "        list_of_clusters.append(last_cluster)\n",
        "        return list_of_clusters, res, sub1, sub2\n",
        "\n",
        "\n",
        "    clustering(sub1, modularity_new, list_of_clusters)\n",
        "    clustering(sub2, modularity_new, list_of_clusters)\n",
        "    return list_of_clusters, res, sub1, sub2"
      ]
    },
    {
      "cell_type": "code",
      "execution_count": null,
      "metadata": {
        "colab": {
          "base_uri": "https://localhost:8080/"
        },
        "id": "ZrK-QEclOMm6",
        "outputId": "63923a4c-b06c-4322-ebcc-eb2395507b56"
      },
      "outputs": [
        {
          "output_type": "stream",
          "name": "stdout",
          "text": [
            "----------------------------------------------------------------------------\n",
            "\n",
            "length of last cluster:  7115\n",
            "dominant eigenvector:  [-3.30323002e-03+0.j -4.70672371e-03+0.j -2.72284899e-02+0.j ...\n",
            "  2.05998369e-04+0.j  3.79765150e-05+0.j  2.27061515e-05+0.j]\n",
            "Number of nodes in cluster 1:  3347\n",
            "Number of nodes in cluster 2:  3768\n",
            "length of cluster 1:  3347\n",
            "length of cluster 2:  3768\n"
          ]
        }
      ],
      "source": [
        "modularity =0\n",
        "list_of_clusters = []\n",
        "list_of_clusters.append(set(graph.nodes()))\n",
        "clusters = clustering(graph, modularity, list_of_clusters)"
      ]
    },
    {
      "cell_type": "code",
      "execution_count": 16,
      "metadata": {
        "colab": {
          "base_uri": "https://localhost:8080/"
        },
        "id": "8PxBi3PTOMm6",
        "outputId": "89f5e74a-5f8c-45be-ad93-d5b919c76da5"
      },
      "outputs": [
        {
          "output_type": "stream",
          "name": "stdout",
          "text": [
            "2\n"
          ]
        }
      ],
      "source": [
        "print(len(clusters))"
      ]
    },
    {
      "cell_type": "code",
      "source": [
        "for i in clusters:\n",
        "  print(len(i))"
      ],
      "metadata": {
        "colab": {
          "base_uri": "https://localhost:8080/"
        },
        "id": "CPkxODhbl0El",
        "outputId": "2b1ae37c-3a85-4ca5-c761-1f6de6c8d9a5"
      },
      "execution_count": 19,
      "outputs": [
        {
          "output_type": "stream",
          "name": "stdout",
          "text": [
            "3347\n",
            "3773\n"
          ]
        }
      ]
    },
    {
      "cell_type": "code",
      "source": [
        "nodes = list(graph.nodes())\n",
        "nodes = [int(a) for a in nodes]\n",
        "max_nodes = max(nodes)\n",
        "print(max_nodes)"
      ],
      "metadata": {
        "colab": {
          "base_uri": "https://localhost:8080/",
          "height": 335
        },
        "id": "eQl9LDXInTsZ",
        "outputId": "42b2b4ce-4bb6-4f90-e3a9-d64ebd5b8dc6"
      },
      "execution_count": 24,
      "outputs": [
        {
          "output_type": "error",
          "ename": "ValueError",
          "evalue": "ignored",
          "traceback": [
            "\u001b[0;31m---------------------------------------------------------------------------\u001b[0m",
            "\u001b[0;31mValueError\u001b[0m                                Traceback (most recent call last)",
            "\u001b[0;32m<ipython-input-24-db7cab1f7f46>\u001b[0m in \u001b[0;36m<module>\u001b[0;34m\u001b[0m\n\u001b[1;32m      1\u001b[0m \u001b[0mnodes\u001b[0m \u001b[0;34m=\u001b[0m \u001b[0mlist\u001b[0m\u001b[0;34m(\u001b[0m\u001b[0mgraph\u001b[0m\u001b[0;34m.\u001b[0m\u001b[0mnodes\u001b[0m\u001b[0;34m(\u001b[0m\u001b[0;34m)\u001b[0m\u001b[0;34m)\u001b[0m\u001b[0;34m\u001b[0m\u001b[0;34m\u001b[0m\u001b[0m\n\u001b[0;32m----> 2\u001b[0;31m \u001b[0mnodes\u001b[0m \u001b[0;34m=\u001b[0m \u001b[0;34m[\u001b[0m\u001b[0mint\u001b[0m\u001b[0;34m(\u001b[0m\u001b[0ma\u001b[0m\u001b[0;34m)\u001b[0m \u001b[0;32mfor\u001b[0m \u001b[0ma\u001b[0m \u001b[0;32min\u001b[0m \u001b[0mnodes\u001b[0m\u001b[0;34m]\u001b[0m\u001b[0;34m\u001b[0m\u001b[0;34m\u001b[0m\u001b[0m\n\u001b[0m\u001b[1;32m      3\u001b[0m \u001b[0mmax_nodes\u001b[0m \u001b[0;34m=\u001b[0m \u001b[0mmax\u001b[0m\u001b[0;34m(\u001b[0m\u001b[0mnodes\u001b[0m\u001b[0;34m)\u001b[0m\u001b[0;34m\u001b[0m\u001b[0;34m\u001b[0m\u001b[0m\n\u001b[1;32m      4\u001b[0m \u001b[0mprint\u001b[0m\u001b[0;34m(\u001b[0m\u001b[0mmax_nodes\u001b[0m\u001b[0;34m)\u001b[0m\u001b[0;34m\u001b[0m\u001b[0;34m\u001b[0m\u001b[0m\n",
            "\u001b[0;32m<ipython-input-24-db7cab1f7f46>\u001b[0m in \u001b[0;36m<listcomp>\u001b[0;34m(.0)\u001b[0m\n\u001b[1;32m      1\u001b[0m \u001b[0mnodes\u001b[0m \u001b[0;34m=\u001b[0m \u001b[0mlist\u001b[0m\u001b[0;34m(\u001b[0m\u001b[0mgraph\u001b[0m\u001b[0;34m.\u001b[0m\u001b[0mnodes\u001b[0m\u001b[0;34m(\u001b[0m\u001b[0;34m)\u001b[0m\u001b[0;34m)\u001b[0m\u001b[0;34m\u001b[0m\u001b[0;34m\u001b[0m\u001b[0m\n\u001b[0;32m----> 2\u001b[0;31m \u001b[0mnodes\u001b[0m \u001b[0;34m=\u001b[0m \u001b[0;34m[\u001b[0m\u001b[0mint\u001b[0m\u001b[0;34m(\u001b[0m\u001b[0ma\u001b[0m\u001b[0;34m)\u001b[0m \u001b[0;32mfor\u001b[0m \u001b[0ma\u001b[0m \u001b[0;32min\u001b[0m \u001b[0mnodes\u001b[0m\u001b[0;34m]\u001b[0m\u001b[0;34m\u001b[0m\u001b[0;34m\u001b[0m\u001b[0m\n\u001b[0m\u001b[1;32m      3\u001b[0m \u001b[0mmax_nodes\u001b[0m \u001b[0;34m=\u001b[0m \u001b[0mmax\u001b[0m\u001b[0;34m(\u001b[0m\u001b[0mnodes\u001b[0m\u001b[0;34m)\u001b[0m\u001b[0;34m\u001b[0m\u001b[0;34m\u001b[0m\u001b[0m\n\u001b[1;32m      4\u001b[0m \u001b[0mprint\u001b[0m\u001b[0;34m(\u001b[0m\u001b[0mmax_nodes\u001b[0m\u001b[0;34m)\u001b[0m\u001b[0;34m\u001b[0m\u001b[0;34m\u001b[0m\u001b[0m\n",
            "\u001b[0;31mValueError\u001b[0m: invalid literal for int() with base 10: '#'"
          ]
        }
      ]
    },
    {
      "cell_type": "code",
      "source": [],
      "metadata": {
        "id": "Nzuu1XFvn0bU"
      },
      "execution_count": null,
      "outputs": []
    }
  ],
  "metadata": {
    "kernelspec": {
      "display_name": "Python 3.9.7 64-bit",
      "language": "python",
      "name": "python3"
    },
    "language_info": {
      "codemirror_mode": {
        "name": "ipython",
        "version": 3
      },
      "file_extension": ".py",
      "mimetype": "text/x-python",
      "name": "python",
      "nbconvert_exporter": "python",
      "pygments_lexer": "ipython3",
      "version": "3.9.7"
    },
    "orig_nbformat": 4,
    "vscode": {
      "interpreter": {
        "hash": "c25269a4018224bb4e3cb6b79397037e31419b0dedc1b97e47175df2e08dbf7b"
      }
    },
    "colab": {
      "provenance": []
    },
    "gpuClass": "standard",
    "accelerator": "TPU"
  },
  "nbformat": 4,
  "nbformat_minor": 0
}